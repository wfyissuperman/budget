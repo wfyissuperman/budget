{
 "cells": [
  {
   "cell_type": "code",
   "execution_count": 2,
   "id": "c6663198",
   "metadata": {},
   "outputs": [
    {
     "name": "stdout",
     "output_type": "stream",
     "text": [
      "预算计算值与设定值的偏差为: 20\n",
      "最优解: 出差人数 = 3, 初查天数 = 3, 出差次数 = 5\n",
      "总费用: 53100\n",
      "人员交通费: 30000\n",
      "人员住宿费: 15000\n",
      "人员补助费: 8100\n"
     ]
    }
   ],
   "source": [
    "'''\n",
    "根据中央财政资金中差旅费的测算标准按照《中央和国家机关差旅费管理办法》（财行[2013]531号）和\n",
    "《中央和国家机关工作人员赴地方差旅住宿费标准明细表》（财行[2016]71号）的相关规定，\n",
    "差旅费主要由交通费和差旅补助组成，按城市间交通费平均2000元往返，\n",
    "北京、上海住宿费500元/天，南京住宿费380元/天，成都住宿费370元/天差旅补助180元/天计算。\n",
    "'''\n",
    "\n",
    "import numpy as np\n",
    "\n",
    "# 常量定义\n",
    "budget_expctation = 53120  # 预算设定值\n",
    "allowance_standard = 180  # 补助标准\n",
    "transportation_fee = 2000  # 交通费\n",
    "accommodation_fee = 500  # 住宿费\n",
    "\n",
    "# 费用计算函数\n",
    "def compute_total_cost(x, y, z):\n",
    "\n",
    "    \"\"\"\n",
    "    计算损失函数值\n",
    "    x: 差旅人数\n",
    "    y: 差旅天数\n",
    "    z: 出差次数\n",
    "    \"\"\"\n",
    "\n",
    "    if y < 1:\n",
    "        return np.inf\n",
    "    transport = transportation_fee * y * z\n",
    "    accommodation = x * z * max(y - 1, 0) * accommodation_fee\n",
    "    allowance = allowance_standard * x * y * z\n",
    "    return transport + accommodation + allowance\n",
    "\n",
    "# 初始化变量\n",
    "min_loss = float('inf')\n",
    "best_x, best_y, best_z = None, None, None\n",
    "\n",
    "# 枚举搜索\n",
    "for x in range(1, 10):\n",
    "    for y in range(1, 10):\n",
    "        for z in range(1, 10):\n",
    "            total_cost = compute_total_cost(x, y, z)\n",
    "            loss = abs(budget_expctation - total_cost)\n",
    "            if loss < min_loss:\n",
    "                min_loss = loss\n",
    "                best_x, best_y, best_z = x, y, z\n",
    "\n",
    "# 结果输出\n",
    "final_cost = compute_total_cost(best_x, best_y, best_z)\n",
    "print(f\"预算计算值与设定值的偏差为: {min_loss}\")\n",
    "print(f\"最优解: 出差人数 = {best_x}, 初查天数 = {best_y}, 出差次数 = {best_z}\")\n",
    "print(f\"总费用: {final_cost}\")\n",
    "print(f\"人员交通费: {transportation_fee * best_y * best_z}\")\n",
    "print(f\"人员住宿费: {best_x * best_z * max(best_y - 1, 0) * accommodation_fee}\")\n",
    "print(f\"人员补助费: {allowance_standard * best_x * best_y * best_z}\")"
   ]
  },
  {
   "cell_type": "code",
   "execution_count": null,
   "id": "dd7f0f04",
   "metadata": {},
   "outputs": [
    {
     "name": "stdout",
     "output_type": "stream",
     "text": [
      "=== 优化结果 ===\n",
      "最小损失值: 0.10\n",
      "最佳购买数量: (7, 5, 8)\n",
      "材料1: 单价 12.5, 数量 7, 小计 87.5\n",
      "材料2: 单价 30.0, 数量 5, 小计 150.0\n",
      "材料3: 单价 7.8, 数量 8, 小计 62.4\n",
      "总费用: 299.90\n"
     ]
    }
   ],
   "source": [
    "import numpy as np\n",
    "from itertools import product\n",
    "\n",
    "# 示例数据：每种材料的单价、最小值、最大值\n",
    "materials = [\n",
    "    {'price': 12.5, 'min_qty': 2, 'max_qty': 10},\n",
    "    {'price': 30.0, 'min_qty': 1, 'max_qty': 8},\n",
    "    {'price': 7.8,  'min_qty': 5, 'max_qty': 15}\n",
    "]\n",
    "\n",
    "budget_expectation = 300  # 总预算\n",
    "\n",
    "# 构造每种材料的取值范围\n",
    "quantity_ranges = [\n",
    "    range(material['min_qty'], material['max_qty'] + 1)\n",
    "    for material in materials\n",
    "]\n",
    "\n",
    "# 初始化最小损失\n",
    "min_loss = float('inf')\n",
    "best_quantities = None\n",
    "\n",
    "# 穷举搜索所有合法组合\n",
    "for quantities in product(*quantity_ranges):\n",
    "    total_cost = sum(q * m['price'] for q, m in zip(quantities, materials))\n",
    "    loss = abs(total_cost - budget_expectation)\n",
    "    if loss < min_loss:\n",
    "        min_loss = loss\n",
    "        best_quantities = quantities\n",
    "\n",
    "# 输出结果\n",
    "print(\"=== 优化结果 ===\")\n",
    "print(f\"最小损失值: {min_loss:.2f}\")\n",
    "print(f\"最佳购买数量: {best_quantities}\")\n",
    "for i, (q, m) in enumerate(zip(best_quantities, materials)):\n",
    "    print(f\"材料{i+1}: 单价 {m['price']}, 数量 {q}, 小计 {q * m['price']}\")\n",
    "print(f\"总费用: {sum(q * m['price'] for q, m in zip(best_quantities, materials)):.2f}\")"
   ]
  }
 ],
 "metadata": {
  "kernelspec": {
   "display_name": ".venv",
   "language": "python",
   "name": "python3"
  },
  "language_info": {
   "codemirror_mode": {
    "name": "ipython",
    "version": 3
   },
   "file_extension": ".py",
   "mimetype": "text/x-python",
   "name": "python",
   "nbconvert_exporter": "python",
   "pygments_lexer": "ipython3",
   "version": "3.11.5"
  }
 },
 "nbformat": 4,
 "nbformat_minor": 5
}
